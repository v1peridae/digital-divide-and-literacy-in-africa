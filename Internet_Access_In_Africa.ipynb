{
  "nbformat": 4,
  "nbformat_minor": 0,
  "metadata": {
    "colab": {
      "provenance": [],
      "authorship_tag": "ABX9TyM1PYzNQLhC5vTEsRJKa2AT",
      "include_colab_link": true
    },
    "kernelspec": {
      "name": "python3",
      "display_name": "Python 3"
    },
    "language_info": {
      "name": "python"
    }
  },
  "cells": [
    {
      "cell_type": "markdown",
      "metadata": {
        "id": "view-in-github",
        "colab_type": "text"
      },
      "source": [
        "<a href=\"https://colab.research.google.com/github/v1peridae/digital-divide-and-literacy-in-africa/blob/main/Internet_Access_In_Africa.ipynb\" target=\"_parent\"><img src=\"https://colab.research.google.com/assets/colab-badge.svg\" alt=\"Open In Colab\"/></a>"
      ]
    },
    {
      "cell_type": "markdown",
      "source": [
        "#The Digital Divide and It's Effects On Digital Literacy In Africa"
      ],
      "metadata": {
        "id": "WPnin_Z15Ck5"
      }
    },
    {
      "cell_type": "markdown",
      "source": [
        "This project aims to shine light on the effects of lack of access to the internet in African populations."
      ],
      "metadata": {
        "id": "L1EE2TEG5KWY"
      }
    },
    {
      "cell_type": "markdown",
      "source": [
        "#Internet Usage Statistics In 2022:"
      ],
      "metadata": {
        "id": "sOl2z0hI8dP1"
      }
    },
    {
      "cell_type": "code",
      "execution_count": 7,
      "metadata": {
        "id": "hTL3Fl9x47w5"
      },
      "outputs": [],
      "source": [
        "import numpy as np\n",
        "import pandas as pd"
      ]
    },
    {
      "cell_type": "code",
      "source": [
        "internet_df = pd.read_csv(\"/content/int_data.csv\")\n",
        "internet_df = internet_df.drop(\"Value Footnotes\", axis = 1)\n",
        "internet_df.fillna(\"N/A\", inplace=True)\n",
        "internet_df[\"Year\"] = pd.to_numeric(internet_df[\"Year\"], errors=\"coerce\").fillna(0).astype(int)\n",
        "\n",
        "gdp_df = pd.read_csv(\"/content/gdp_data.csv\")\n",
        "gdp_df = gdp_df.drop(\"Value Footnotes\", axis = 1)\n",
        "gdp_df.fillna(\"N/A\", inplace=True)\n",
        "gdp_df[\"Year\"] = pd.to_numeric(gdp_df[\"Year\"], errors=\"coerce\").fillna(0).astype(int)\n"
      ],
      "metadata": {
        "id": "tXpDp31D9tAU"
      },
      "execution_count": 8,
      "outputs": []
    },
    {
      "cell_type": "code",
      "source": [],
      "metadata": {
        "id": "DvGoNsPgnrIk"
      },
      "execution_count": 8,
      "outputs": []
    },
    {
      "cell_type": "code",
      "source": [
        "internet_df_2022 = internet_df[internet_df['Year'] == 2022]\n",
        "internet_usage_2022 = internet_df_2022[[\"Country or Area\", \"Value\"]]\n",
        "internet_usage_2022.rename(columns={\"Value\": \"Internet Use (%)\"}, inplace=True)\n",
        "internet_usage_2022 = internet_usage_2022.sort_values(by=\"Internet Use (%)\", ascending=False)\n",
        "internet_usage_2022.to_csv(\"internet_usage_2022.csv\", index=False)"
      ],
      "metadata": {
        "id": "YkCn9em98J8o",
        "colab": {
          "base_uri": "https://localhost:8080/"
        },
        "outputId": "f3756299-a486-4dc3-d780-13c762dca79d"
      },
      "execution_count": 9,
      "outputs": [
        {
          "output_type": "stream",
          "name": "stderr",
          "text": [
            "<ipython-input-9-13ccc6de38c3>:4: SettingWithCopyWarning: \n",
            "A value is trying to be set on a copy of a slice from a DataFrame\n",
            "\n",
            "See the caveats in the documentation: https://pandas.pydata.org/pandas-docs/stable/user_guide/indexing.html#returning-a-view-versus-a-copy\n",
            "  internet_usage_2022.rename(columns={'Value': 'Internet Use (%)'}, inplace=True)\n"
          ]
        }
      ]
    },
    {
      "cell_type": "code",
      "source": [
        "gdp_df_2022 = gdp_df[gdp_df['Year'] == 2022]\n",
        "gdp_2022 = gdp_df_2022[[\"Country or Area\", \"Value\"]]\n",
        "gdp_2022.rename(columns={\"Value': 'GDP ($)\"}, inplace=True)\n",
        "gdp_2022 = gdp_2022.sort_values(by=\"GDP ($)\", ascending=False)\n",
        "gdp_2022.to_csv(\"gdp_2022.csv\", index=False)"
      ],
      "metadata": {
        "id": "hEYz6HxNF2bu",
        "colab": {
          "base_uri": "https://localhost:8080/"
        },
        "outputId": "b7d93ab3-9318-4391-834e-2fa3e3ce5ffe"
      },
      "execution_count": 18,
      "outputs": [
        {
          "output_type": "stream",
          "name": "stderr",
          "text": [
            "<ipython-input-18-a4c5808019f2>:3: SettingWithCopyWarning: \n",
            "A value is trying to be set on a copy of a slice from a DataFrame\n",
            "\n",
            "See the caveats in the documentation: https://pandas.pydata.org/pandas-docs/stable/user_guide/indexing.html#returning-a-view-versus-a-copy\n",
            "  gdp_2022.rename(columns={'Value': 'GDP ($)'}, inplace=True)\n"
          ]
        }
      ]
    },
    {
      "cell_type": "code",
      "source": [
        "merged_df = pd.merge(internet_usage_2022, gdp_2022, on=\"Country or Area\")\n",
        "merged_df = merged_df.sort_values(by=\"Internet Use (%)\", ascending=False)\n",
        "print(merged_df.head(10))\n",
        "\n",
        "merged_df.to_csv(\"internet_gdp_2022.csv\", index=False)\n",
        "\n"
      ],
      "metadata": {
        "id": "LG45BLvmEeyA",
        "colab": {
          "base_uri": "https://localhost:8080/"
        },
        "outputId": "d19fdc51-436f-4a90-8f87-1d571e96b6ed"
      },
      "execution_count": 17,
      "outputs": [
        {
          "output_type": "stream",
          "name": "stdout",
          "text": [
            "   Country or Area Internet Use (%)                Value\n",
            "37         Burundi           11.275   10778103221.236631\n",
            "36            Chad          12.1839   29562896370.607731\n",
            "35           Niger           16.937   39449365423.637871\n",
            "34        Ethiopia          19.3781  346892741942.674133\n",
            "33    Burkina Faso          19.9237   57724304187.399063\n",
            "32      Madagascar          20.5777   52533215226.097397\n",
            "31      Mozambique           21.207   48391661732.748589\n",
            "30         Somalia             27.6   24004794505.237659\n",
            "29          Malawi          27.6609   35342628209.564964\n",
            "28           Sudan          28.7045  197622822615.718445\n"
          ]
        }
      ]
    },
    {
      "cell_type": "markdown",
      "source": [],
      "metadata": {
        "id": "eMXvB-rC8JUW"
      }
    }
  ]
}